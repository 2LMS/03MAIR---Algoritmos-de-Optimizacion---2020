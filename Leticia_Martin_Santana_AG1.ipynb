{
  "nbformat": 4,
  "nbformat_minor": 0,
  "metadata": {
    "colab": {
      "name": "Leticia_Martin_Santana-AG1.ipynb",
      "provenance": [],
      "authorship_tag": "ABX9TyMufza+IWeT/gFCUmSADPxP",
      "include_colab_link": true
    },
    "kernelspec": {
      "name": "python3",
      "display_name": "Python 3"
    }
  },
  "cells": [
    {
      "cell_type": "markdown",
      "metadata": {
        "id": "view-in-github",
        "colab_type": "text"
      },
      "source": [
        "<a href=\"https://colab.research.google.com/github/2LMS/03MAIR---Algoritmos-de-Optimizacion---2020/blob/main/Leticia_Martin_Santana_AG1.ipynb\" target=\"_parent\"><img src=\"https://colab.research.google.com/assets/colab-badge.svg\" alt=\"Open In Colab\"/></a>"
      ]
    },
    {
      "cell_type": "markdown",
      "metadata": {
        "id": "uQ-vORRfRarE"
      },
      "source": [
        "#Algoritmos - Actividad Guiada 1\r\n",
        "\r\n",
        "Nombre: Leticia Martín Santana <br>\r\n",
        "URL: https://colab.research.google.com/drive/1RTCcDu36sWlgsPXg4LtmJI_InBDiRvwt?usp=sharing <br>\r\n",
        "\r\n",
        "URL GIITHUB: "
      ]
    },
    {
      "cell_type": "markdown",
      "metadata": {
        "id": "QKKBW6p4R4RU"
      },
      "source": [
        "## Torres de Hanoi con divide y vencerás"
      ]
    },
    {
      "cell_type": "code",
      "metadata": {
        "colab": {
          "base_uri": "https://localhost:8080/"
        },
        "id": "3ApFwux5RW3Y",
        "outputId": "6f1b1a35-b8cd-4971-bc65-afd1e1479da3"
      },
      "source": [
        "#N: indica cantidad de fichas\r\n",
        "#desde: indica desde qué torre\r\n",
        "#hasta: indica hasta qué torre\r\n",
        "\r\n",
        "def Torres_Hanoi (N, desde, hasta):\r\n",
        "  if N==1:\r\n",
        "    print (\"Lleva la ficha desde la torre\", desde, \"hasta\", hasta)\r\n",
        "  else:\r\n",
        "    Torres_Hanoi (N-1, desde, 6-desde-hasta)\r\n",
        "    print (\"Lleva la ficha desde la torre\", desde, \"hasta\", hasta)\r\n",
        "    Torres_Hanoi (N-1, 6-desde-hasta, hasta)\r\n",
        "\r\n",
        "Torres_Hanoi (3,1,3)"
      ],
      "execution_count": null,
      "outputs": [
        {
          "output_type": "stream",
          "text": [
            "Lleva la ficha desde la torre 1 hasta 3\n",
            "Lleva la ficha desde la torre 1 hasta 2\n",
            "Lleva la ficha desde la torre 3 hasta 2\n",
            "Lleva la ficha desde la torre 1 hasta 3\n",
            "Lleva la ficha desde la torre 2 hasta 1\n",
            "Lleva la ficha desde la torre 2 hasta 3\n",
            "Lleva la ficha desde la torre 1 hasta 3\n"
          ],
          "name": "stdout"
        }
      ]
    },
    {
      "cell_type": "markdown",
      "metadata": {
        "id": "U6ogrMWBcvPx"
      },
      "source": [
        "## Devolución de cambio por técnica voraz"
      ]
    },
    {
      "cell_type": "code",
      "metadata": {
        "colab": {
          "base_uri": "https://localhost:8080/"
        },
        "id": "zRqHwSY8c0UI",
        "outputId": "b0ae0525-aafb-498c-e88a-90ab8385e3f6"
      },
      "source": [
        "def cambio_monedas (N,SM):\r\n",
        "  SOLUCION=[0]*len(SM)\r\n",
        "  ValorAcumulado=0\r\n",
        "  for i,valor in enumerate (SM):\r\n",
        "    monedas=(N-ValorAcumulado)//valor\r\n",
        "    SOLUCION[i]=monedas\r\n",
        "    ValorAcumulado=ValorAcumulado+monedas*valor\r\n",
        "    if ValorAcumulado==N:\r\n",
        "      return SOLUCION\r\n",
        "\r\n",
        "cambio_monedas(37, [25,10,5,1])"
      ],
      "execution_count": null,
      "outputs": [
        {
          "output_type": "execute_result",
          "data": {
            "text/plain": [
              "[1, 1, 0, 2]"
            ]
          },
          "metadata": {
            "tags": []
          },
          "execution_count": 4
        }
      ]
    },
    {
      "cell_type": "markdown",
      "metadata": {
        "id": "KQyZo1uVgw2f"
      },
      "source": [
        "## N-Reinas por técnica de vuelta atrás"
      ]
    },
    {
      "cell_type": "code",
      "metadata": {
        "colab": {
          "base_uri": "https://localhost:8080/"
        },
        "id": "4ppynr5ag08Z",
        "outputId": "973c3e04-73be-47fc-c550-43453a4f7358"
      },
      "source": [
        "def es_prometedora (SOLUCION, etapa):\r\n",
        "  for i in range (etapa+1):\r\n",
        "    if SOLUCION.count(SOLUCION[i])>1:\r\n",
        "      return False\r\n",
        "    for j in range (i+1, etapa+1):\r\n",
        "      if abs(i-j)==abs(SOLUCION [i]-SOLUCION [j]): return False\r\n",
        "  return True\r\n",
        "\r\n",
        "def escribe(S):\r\n",
        "  n=len(S)\r\n",
        "  for x in range (n):\r\n",
        "    print (\" \")\r\n",
        "    for i in range (n):\r\n",
        "      if S[i]==x+1:\r\n",
        "        print(\"X\", end=\" \")\r\n",
        "      else:\r\n",
        "        print(\"-\", end=\" \")\r\n",
        "\r\n",
        "def reinas (N, solucion=[],etapa=0):\r\n",
        "  if len (solucion)==0:\r\n",
        "    solucion=[0 for i in range (N)]\r\n",
        "  for i in range (1,N+1):\r\n",
        "    solucion[etapa]=i\r\n",
        "    if es_prometedora(solucion,etapa):\r\n",
        "      if etapa==N-1:\r\n",
        "        print(solucion)\r\n",
        "        escribe (solucion)\r\n",
        "        print (\"\")\r\n",
        "      else:\r\n",
        "        reinas(N,solucion,etapa+1)\r\n",
        "    else:\r\n",
        "      None\r\n",
        "  solucion[etapa]=0\r\n",
        "\r\n",
        "\r\n",
        "reinas(4)\r\n"
      ],
      "execution_count": null,
      "outputs": [
        {
          "output_type": "stream",
          "text": [
            "[2, 4, 1, 3]\n",
            " \n",
            "- - X -  \n",
            "X - - -  \n",
            "- - - X  \n",
            "- X - - \n",
            "[3, 1, 4, 2]\n",
            " \n",
            "- X - -  \n",
            "- - - X  \n",
            "X - - -  \n",
            "- - X - \n"
          ],
          "name": "stdout"
        }
      ]
    }
  ]
}