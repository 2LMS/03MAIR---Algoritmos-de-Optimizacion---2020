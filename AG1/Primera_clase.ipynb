{
  "nbformat": 4,
  "nbformat_minor": 0,
  "metadata": {
    "colab": {
      "name": "AG1/Primera_clase.ipynb",
      "provenance": [],
      "authorship_tag": "ABX9TyOHVVCgHXoPs1clXq2NVt95",
      "include_colab_link": true
    },
    "kernelspec": {
      "name": "python3",
      "display_name": "Python 3"
    }
  },
  "cells": [
    {
      "cell_type": "markdown",
      "metadata": {
        "id": "view-in-github",
        "colab_type": "text"
      },
      "source": [
        "<a href=\"https://colab.research.google.com/github/2LMS/03MAIR---Algoritmos-de-Optimizacion---2020/blob/main/AG1/Primera_clase.ipynb\" target=\"_parent\"><img src=\"https://colab.research.google.com/assets/colab-badge.svg\" alt=\"Open In Colab\"/></a>"
      ]
    },
    {
      "cell_type": "code",
      "metadata": {
        "colab": {
          "base_uri": "https://localhost:8080/"
        },
        "id": "fZedIYGA1iEy",
        "outputId": "fc86ece2-b2c4-4352-f025-65fff9cd3a23"
      },
      "source": [
        "A=[1,2,6,7,12,13,15]\n",
        "B=[2,3,4,7,13]\n",
        "C = set(A).intersection(B)\n",
        "print(C)"
      ],
      "execution_count": 7,
      "outputs": [
        {
          "output_type": "stream",
          "text": [
            "{2, 13, 7}\n",
            "{2, 13, 7}\n"
          ],
          "name": "stdout"
        }
      ]
    }
  ]
}