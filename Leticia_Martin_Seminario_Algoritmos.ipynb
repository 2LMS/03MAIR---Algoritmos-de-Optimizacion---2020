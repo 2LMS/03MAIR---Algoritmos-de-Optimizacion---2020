{
  "nbformat": 4,
  "nbformat_minor": 0,
  "metadata": {
    "colab": {
      "name": " Leticia Martin - Seminario - Algoritmos.ipynb",
      "provenance": [],
      "collapsed_sections": [],
      "include_colab_link": true
    },
    "kernelspec": {
      "display_name": "Python 3",
      "language": "python",
      "name": "python3"
    },
    "language_info": {
      "codemirror_mode": {
        "name": "ipython",
        "version": 3
      },
      "file_extension": ".py",
      "mimetype": "text/x-python",
      "name": "python",
      "nbconvert_exporter": "python",
      "pygments_lexer": "ipython3",
      "version": "3.8.5"
    }
  },
  "cells": [
    {
      "cell_type": "markdown",
      "metadata": {
        "id": "view-in-github",
        "colab_type": "text"
      },
      "source": [
        "<a href=\"https://colab.research.google.com/github/2LMS/03MAIR---Algoritmos-de-Optimizacion---2020/blob/main/Leticia_Martin_Seminario_Algoritmos.ipynb\" target=\"_parent\"><img src=\"https://colab.research.google.com/assets/colab-badge.svg\" alt=\"Open In Colab\"/></a>"
      ]
    },
    {
      "cell_type": "markdown",
      "metadata": {
        "id": "hVbXYX-RfPWh"
      },
      "source": [
        "# Algoritmos de optimización - Seminario<br>\n",
        "Nombre y Apellidos: Leticia Martín Santana  <br>\n",
        "\n",
        "Url: https://colab.research.google.com/drive/1VLP90mlSG2mEEhuYpdPXC4H4mkyWhAox?usp=sharing<br>\n",
        "\n",
        "GITHUB:https://github.com/2LMS/03MAIR---Algoritmos-de-Optimizacion---2020/blob/main/Leticia_Martin_Santana_Algoritmos_Seminario.ipynb <br>\n",
        "Problema:\n",
        ">3. Combinar cifras y operaciones\n",
        "\n",
        "Descripción del problema:\n",
        "• El problema consiste en analizar el siguiente problema y diseñar un algoritmo que lo resuelva.\n",
        "• Disponemos de las 9 cifras del 1 al 9 (excluimos el cero) y de los 4 signos básicos de las\n",
        "operaciones fundamentales: suma(+), resta(-), multiplicación(*) y división(/)\n",
        "• Debemos combinarlos alternativamente sin repetir ninguno de ellos para obtener una\n",
        "cantidad dada. Un ejemplo sería para obtener el 4:\n",
        "  - **4+2-6/3*1 = 4**\n",
        "\n",
        "Debe analizarse el problema para encontrar todos los valores enteros posibles planteando las\n",
        "siguientes cuestiones:\n",
        "- ¿Qué valor máximo y mínimo se pueden obtener según las condiciones del problema?\n",
        "- ¿Es posible encontrar todos los valores enteros posibles entre dicho mínimo y máximo ?\n",
        "• Nota: Es posible usar la función de python “eval” para evaluar una expresión:\n",
        "\n",
        "(*) La respuesta es obligatoria\n"
      ]
    },
    {
      "cell_type": "code",
      "metadata": {
        "colab": {
          "base_uri": "https://localhost:8080/"
        },
        "id": "AiskKkzZfy4e",
        "outputId": "0a4763c8-f138-4fe9-ae62-ca6a0b18df14"
      },
      "source": [
        "expresion = \"4-2+6/3*1\" \n",
        "print(eval(expresion))"
      ],
      "execution_count": null,
      "outputs": [
        {
          "output_type": "stream",
          "text": [
            "4.0\n"
          ],
          "name": "stdout"
        }
      ]
    },
    {
      "cell_type": "markdown",
      "metadata": {
        "id": "3_-exlrTgLd-"
      },
      "source": [
        "**(*)¿Cuantas posibilidades hay sin tener en cuenta las restricciones?**<br>\n",
        "\n",
        "\n",
        "\n",
        "\n"
      ]
    },
    {
      "cell_type": "markdown",
      "metadata": {
        "id": "WfCUqJyKhPcw"
      },
      "source": [
        "Respuesta:\n",
        "\n",
        "Tenemos:\n",
        "- 9 posibilidades\n",
        "- En 5 posiciones\n",
        "- Con 4 operandos\n",
        "\n",
        "Teniendo en cuenta que el número de variaciones de n elementos tomados de k en k (con $n<k$) es:\n",
        "\n",
        "$$V_k^n=\\frac{n!}{(n-k)!}$$\n",
        "\n",
        "El número de posibilidades es:\n",
        "\n",
        "$$Posibilidades=V_5^9\\cdot V_4^4=\\frac{9!}{5!}\\cdot\\frac{4!}{0!}=72576$$"
      ]
    },
    {
      "cell_type": "markdown",
      "metadata": {
        "id": "dzynfVJahHoY"
      },
      "source": [
        "**Modelo para el espacio de soluciones<br>\n",
        "(*) ¿Cual es la estructura de datos que mejor se adapta al problema? Argumentalo.(Es posible que hayas elegido una al principio y veas la necesidad de cambiar, arguentalo)**\n"
      ]
    },
    {
      "cell_type": "markdown",
      "metadata": {
        "id": "xFIJrOwKi2Ti"
      },
      "source": [
        "Respuesta:\n",
        "Para modelar la solución necesitamos:\n",
        "\n",
        "1 Tupla con:\n",
        "- 1 lista con los números\n",
        "- 1 lista con las operaciones\n",
        "- La expresión\n",
        "\n",
        "La tupla quedaría$([5,3,1], ['*', '/'], '5*3/1')$ representa a el estado $5*3/1=15$"
      ]
    },
    {
      "cell_type": "markdown",
      "metadata": {
        "id": "7Z9U2W7bi-XS"
      },
      "source": [
        "**Según el modelo para el espacio de soluciones**<br>\n",
        "**(*)¿Cual es la función objetivo?**\n",
        "\n",
        "**(*)¿Es un problema de maximización o minimización?**"
      ]
    },
    {
      "cell_type": "markdown",
      "metadata": {
        "id": "hBalWLM7j1_d"
      },
      "source": [
        "Respuesta: \n",
        "La función objetivo $f(x)$ como la diferencia del valor objetivo n al valor calculado k entonces $f(x)=|n-k|$ y **el problema es de minimización** puesto que se pretende encontrar un cero de esta función objetivo.\n",
        "\n",
        "Para una tupla $x=([5,3], ['*'], '5*3')$ y un valor objetivo de 4, $f(x)=|15-4|=11$\n"
      ]
    },
    {
      "cell_type": "markdown",
      "metadata": {
        "id": "rlnTYgY1j6I2"
      },
      "source": [
        "**Diseña un algoritmo para resolver el problema por fuerza bruta**"
      ]
    },
    {
      "cell_type": "markdown",
      "metadata": {
        "id": "70rDgxYXkC8r"
      },
      "source": [
        "Respuesta"
      ]
    },
    {
      "cell_type": "code",
      "metadata": {
        "colab": {
          "base_uri": "https://localhost:8080/"
        },
        "id": "CJb5sQ0qkENy",
        "outputId": "324ae9ba-1bf9-447a-9c0b-3c1acea360de"
      },
      "source": [
        "#Voy a utilizar la clase Nodo para apoyarme para construir la expresión. Esta clase va a construir toda la \n",
        "#información relativa a un nodo, que incluye dos listas (de números y operaciones) y la expresión.\n",
        "\n",
        "class Nodo:\n",
        "    def __init__(self, numbers:list=[1,2,3,4,5,6,7,8,9], operations:list=['+', '-', '*', '/']):\n",
        "        self.numbers = numbers\n",
        "        self.operations = operations\n",
        "        self.expression = self.generate_expression()\n",
        "    def add_number(self, number:int):\n",
        "        self.numbers.append(number)\n",
        "        self.expression += str(number)\n",
        "\n",
        "    def add_operation(self,operation:str):\n",
        "        self.operations.append(operation)\n",
        "        self.expression += operation\n",
        "        \n",
        "    def substact_number(self):\n",
        "        self.numbers.pop()\n",
        "        self.expression = self.expression[:-1]\n",
        "        \n",
        "    def generate_expression(self):\n",
        "        if Nodo.is_empty(self.numbers):\n",
        "            return ''\n",
        "        elif Nodo.is_empty(self.operations):\n",
        "            return str(self.numbers[0])\n",
        "\n",
        "        result = str(self.numbers[0])\n",
        "        for n,o in zip(self.numbers[1:],self.operations):\n",
        "            result += \"{}{}\".format(o,n)\n",
        "\n",
        "        return result\n",
        "    def substact_operation(self):\n",
        "        self.operations.pop()\n",
        "        self.expression = self.expression[:-1]\n",
        "    def eval_nodo(self):\n",
        "        if not self.numbers:\n",
        "            return None\n",
        "        return eval(self.expression)\n",
        "\n",
        "    @staticmethod\n",
        "    def is_empty(l: list):\n",
        "        return not l\n",
        "\n",
        "\n",
        "from itertools import permutations\n",
        "\n",
        "#Algoritmo por fuerza bruta:\n",
        "def fuerza_bruta_expresion(value:int)->str:\n",
        "    OPERATIONS = ['+', '-', '*', '/']\n",
        "    for a in permutations(OPERATIONS):\n",
        "        for b in permutations([1,2,3,4,5,6,7,8,9], len(OPERATIONS) + 1):       \n",
        "            nodo=Nodo(b,a)\n",
        "            if nodo.eval_nodo()==value:\n",
        "                return nodo.expression\n",
        "\n",
        "        \n",
        "print(fuerza_bruta_expresion(15))"
      ],
      "execution_count": null,
      "outputs": [
        {
          "output_type": "stream",
          "text": [
            "7+9-2*3/6\n"
          ],
          "name": "stdout"
        }
      ]
    },
    {
      "cell_type": "markdown",
      "metadata": {
        "id": "tgrnsC2nkFa8"
      },
      "source": [
        "**Calcula la complejidad del algoritmo por fuerza bruta**"
      ]
    },
    {
      "cell_type": "markdown",
      "metadata": {
        "id": "9eUd3xwckP68"
      },
      "source": [
        "Respuesta:\n",
        "\n",
        "Con las restricciónes de no repetición de dígitos y operaciones podemos decir que el coste más alto del algoritmo es:\n",
        "$\\frac{9!}{(9-n)!}\\cdot n!$ veces. \n",
        "\n",
        "Generalizando:\n",
        "$\\in O((n!)^2)$\n"
      ]
    },
    {
      "cell_type": "markdown",
      "metadata": {
        "id": "txbrmLmskReM"
      },
      "source": [
        "(*)Diseña un algoritmo que mejore la complejidad del algortimo por fuerza bruta. Argumenta porque crees que mejora el algoritmo por fuerza bruta"
      ]
    },
    {
      "cell_type": "markdown",
      "metadata": {
        "id": "hLrVwt5QkZPD"
      },
      "source": [
        "Respuesta"
      ]
    },
    {
      "cell_type": "code",
      "metadata": {
        "colab": {
          "base_uri": "https://localhost:8080/"
        },
        "id": "m1eyM21Vkabg",
        "outputId": "ca29d9a5-0e7a-4103-ed63-29f26c1b75bf"
      },
      "source": [
        "#Voy a volver a utilizar la clase Nodo para apoyarme para construir la expresión. Esta clase va a construir toda la \n",
        "#información relativa a un nodo, que incluye dos listas (de números y operaciones) y la expresión.\n",
        "\n",
        "class Nodo:\n",
        "    def __init__(self, numbers:list=[], operations:list=[]):\n",
        "        self.numbers = numbers\n",
        "        self.operations = operations\n",
        "        self.expression = self.generate_expression()\n",
        "        \n",
        "    def add_number(self, number:int):\n",
        "        self.numbers.append(number)\n",
        "        self.expression += str(number)\n",
        "\n",
        "    def add_operation(self,operation:str):\n",
        "        self.operations.append(operation)\n",
        "        self.expression += operation\n",
        "        \n",
        "    def substact_number(self):\n",
        "        self.numbers.pop()\n",
        "        self.expression = self.expression[:-1]\n",
        "        \n",
        "    def generate_expression(self):\n",
        "        if Nodo.is_empty(self.numbers):\n",
        "            return ''\n",
        "        elif Nodo.is_empty(self.operations):\n",
        "            return str(self.numbers[0])\n",
        "\n",
        "        result = str(self.numbers[0])\n",
        "        for n,o in zip(self.numbers[1:],self.operations):\n",
        "            result += \"{}{}\".format(o,n)\n",
        "\n",
        "        return result\n",
        "    def substact_operation(self):\n",
        "        self.operations.pop()\n",
        "        self.expression = self.expression[:-1]\n",
        "        \n",
        "    def eval_nodo(self):\n",
        "        if not self.numbers:\n",
        "            return None\n",
        "        return eval(self.expression)\n",
        "\n",
        "    @staticmethod\n",
        "    def is_empty(l: list):\n",
        "        return not l\n",
        "\n",
        "    \n",
        "\n",
        "def backtracking_expresion(value:int)->str:\n",
        "    # Explorando las posibles soluciones se observa que el producto tiene más relevancia\n",
        "    # al igual que los números más altos en las soluciones y por eso se exploran primero.\n",
        "\n",
        "    OPERATIONS = ['*','/','-','+']\n",
        "    NUMBERS = [9,8,7,6,5,4,3,2,1]\n",
        "    nodo = Nodo()\n",
        "\n",
        "    def solve(value:int, nodo:Nodo):\n",
        "        def solve_for_number(value:int, nodo:Nodo):\n",
        "            for n in set(NUMBERS)-set(nodo.numbers):\n",
        "                nodo.add_number(n)\n",
        "                if solve(value, nodo):\n",
        "                    return True\n",
        "                nodo.substact_number()\n",
        "            return False\n",
        "\n",
        "        if len(nodo.operations) == 4:\n",
        "            if nodo.eval_nodo()==value:\n",
        "                return True\n",
        "            else:\n",
        "                return False\n",
        "        elif not nodo.numbers:\n",
        "            return solve_for_number(value,nodo)\n",
        "        else:\n",
        "            for o in set(OPERATIONS)-set(nodo.operations):\n",
        "                nodo.add_operation(o)\n",
        "                if solve_for_number(value, nodo):\n",
        "                    return True\n",
        "                nodo.substact_operation()\n",
        "        return False\n",
        "    if solve(value, nodo):\n",
        "        return nodo.expression\n",
        "    else:\n",
        "        return \"No es posible dar solución\"\n",
        "    \n",
        "      \n",
        "    \n",
        "print(backtracking_expresion(15))\n"
      ],
      "execution_count": null,
      "outputs": [
        {
          "output_type": "stream",
          "text": [
            "1+2*8-6/3\n"
          ],
          "name": "stdout"
        }
      ]
    },
    {
      "cell_type": "markdown",
      "metadata": {
        "id": "eGDB4K6uk1iN"
      },
      "source": [
        "**(*)Calcula la complejidad del algoritmo** "
      ]
    },
    {
      "cell_type": "markdown",
      "metadata": {
        "id": "NhpTh_BPk1ms"
      },
      "source": [
        "Respuesta: \n",
        "En el peor caso, en el que haya que recorrer todos los números para todas las posiciones, la solución por backtracking tiene una complejidad $\\in O(n!)$, igual que la solución por fuerza bruta, pero de media será de $\\in O(2^n)$"
      ]
    }
  ]
}